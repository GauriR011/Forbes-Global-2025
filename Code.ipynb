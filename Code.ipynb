{
 "cells": [
  {
   "cell_type": "markdown",
   "id": "9e8fd72b",
   "metadata": {},
   "source": [
    "# Forbes' 2025 Global 2000"
   ]
  },
  {
   "cell_type": "code",
   "execution_count": 68,
   "id": "208237d8",
   "metadata": {},
   "outputs": [],
   "source": [
    "import requests\n",
    "from bs4 import BeautifulSoup\n",
    "import pandas as pd\n",
    "import numpy as np"
   ]
  },
  {
   "cell_type": "markdown",
   "id": "6da5a865",
   "metadata": {},
   "source": [
    "#### 1. Web Scraping\n",
    "\n",
    "Site: https://www.forbes.com/lists/global2000/      \n",
    "We will be scraping the table records listing the top 2000 public companies in the world."
   ]
  },
  {
   "cell_type": "code",
   "execution_count": null,
   "id": "2ee47b8b",
   "metadata": {},
   "outputs": [],
   "source": [
    "base_url = \"https://www.forbes.com/lists/global2000/\"\n",
    "records = []\n",
    "\n",
    "# Collect HTML data from this page\n",
    "response = requests.get(base_url)\n",
    "\n",
    "# Parse content\n",
    "content = response.content\n",
    "parsed_content = BeautifulSoup(content, 'html.parser')\n",
    "\n",
    "# Each row is wrapped in <a class=\"table-row ...\">\n",
    "for row in parsed_content.find_all(\"a\", class_=\"table-row\"):\n",
    "    cols = row.find_all(\"div\", class_=\"row-cell-value\")\n",
    "    if len(cols) >= 8:  # ensure we have all columns\n",
    "        records.append([col.get_text(strip=True) for col in cols])\n"
   ]
  },
  {
   "cell_type": "code",
   "execution_count": null,
   "id": "74501e3d",
   "metadata": {},
   "outputs": [],
   "source": [
    "# Converting the collected records to a dataframe\n",
    "column_headers = [\"RANK\", \"NAME\", \"HEADQUARTERS\", \"INDUSTRY\", \"SALES\", \"PROFIT\", \"ASSETS\", \"MARKET VALUE\"]\n",
    "df = pd.DataFrame(records, columns=column_headers)"
   ]
  },
  {
   "cell_type": "code",
   "execution_count": 3,
   "id": "4ce041fe",
   "metadata": {},
   "outputs": [
    {
     "data": {
      "text/html": [
       "<div>\n",
       "<style scoped>\n",
       "    .dataframe tbody tr th:only-of-type {\n",
       "        vertical-align: middle;\n",
       "    }\n",
       "\n",
       "    .dataframe tbody tr th {\n",
       "        vertical-align: top;\n",
       "    }\n",
       "\n",
       "    .dataframe thead th {\n",
       "        text-align: right;\n",
       "    }\n",
       "</style>\n",
       "<table border=\"1\" class=\"dataframe\">\n",
       "  <thead>\n",
       "    <tr style=\"text-align: right;\">\n",
       "      <th></th>\n",
       "      <th>RANK</th>\n",
       "      <th>NAME</th>\n",
       "      <th>HEADQUARTERS</th>\n",
       "      <th>INDUSTRY</th>\n",
       "      <th>SALES</th>\n",
       "      <th>PROFIT</th>\n",
       "      <th>ASSETS</th>\n",
       "      <th>MARKET VALUE</th>\n",
       "    </tr>\n",
       "  </thead>\n",
       "  <tbody>\n",
       "    <tr>\n",
       "      <th>0</th>\n",
       "      <td>1</td>\n",
       "      <td>JPMorganChase</td>\n",
       "      <td>United States</td>\n",
       "      <td>Banking</td>\n",
       "      <td>$285.11 B</td>\n",
       "      <td>$59.36 B</td>\n",
       "      <td>$4,357.86 B</td>\n",
       "      <td>$677.8 B</td>\n",
       "    </tr>\n",
       "    <tr>\n",
       "      <th>1</th>\n",
       "      <td>2</td>\n",
       "      <td>Berkshire Hathaway</td>\n",
       "      <td>United States</td>\n",
       "      <td>Insurance</td>\n",
       "      <td>$371.43 B</td>\n",
       "      <td>$89 B</td>\n",
       "      <td>$1,153.88 B</td>\n",
       "      <td>$1,145.46 B</td>\n",
       "    </tr>\n",
       "    <tr>\n",
       "      <th>2</th>\n",
       "      <td>3</td>\n",
       "      <td>ICBC</td>\n",
       "      <td>China</td>\n",
       "      <td>Banking</td>\n",
       "      <td>$221.96 B</td>\n",
       "      <td>$50.84 B</td>\n",
       "      <td>$6,688.6 B</td>\n",
       "      <td>$251.33 B</td>\n",
       "    </tr>\n",
       "    <tr>\n",
       "      <th>3</th>\n",
       "      <td>4</td>\n",
       "      <td>Saudi Arabian Oil Company (Saudi Aramco)</td>\n",
       "      <td>Saudi Arabia</td>\n",
       "      <td>Oil &amp; Gas Operations</td>\n",
       "      <td>$480.15 B</td>\n",
       "      <td>$104.97 B</td>\n",
       "      <td>$645.03 B</td>\n",
       "      <td>$1,663.38 B</td>\n",
       "    </tr>\n",
       "    <tr>\n",
       "      <th>4</th>\n",
       "      <td>5</td>\n",
       "      <td>Amazon</td>\n",
       "      <td>United States</td>\n",
       "      <td>Retail and Wholesale</td>\n",
       "      <td>$637.96 B</td>\n",
       "      <td>$59.25 B</td>\n",
       "      <td>$624.89 B</td>\n",
       "      <td>$2,005.64 B</td>\n",
       "    </tr>\n",
       "  </tbody>\n",
       "</table>\n",
       "</div>"
      ],
      "text/plain": [
       "  RANK                                      NAME   HEADQUARTERS  \\\n",
       "0    1                             JPMorganChase  United States   \n",
       "1    2                        Berkshire Hathaway  United States   \n",
       "2    3                                      ICBC          China   \n",
       "3    4  Saudi Arabian Oil Company (Saudi Aramco)   Saudi Arabia   \n",
       "4    5                                    Amazon  United States   \n",
       "\n",
       "               INDUSTRY      SALES     PROFIT       ASSETS MARKET VALUE  \n",
       "0               Banking  $285.11 B   $59.36 B  $4,357.86 B     $677.8 B  \n",
       "1             Insurance  $371.43 B      $89 B  $1,153.88 B  $1,145.46 B  \n",
       "2               Banking  $221.96 B   $50.84 B   $6,688.6 B    $251.33 B  \n",
       "3  Oil & Gas Operations  $480.15 B  $104.97 B    $645.03 B  $1,663.38 B  \n",
       "4  Retail and Wholesale  $637.96 B   $59.25 B    $624.89 B  $2,005.64 B  "
      ]
     },
     "execution_count": 3,
     "metadata": {},
     "output_type": "execute_result"
    }
   ],
   "source": [
    "df.head()"
   ]
  },
  {
   "cell_type": "code",
   "execution_count": 39,
   "id": "768555b0",
   "metadata": {},
   "outputs": [
    {
     "data": {
      "text/plain": [
       "RANK            0\n",
       "NAME            0\n",
       "HEADQUARTERS    0\n",
       "INDUSTRY        0\n",
       "SALES           0\n",
       "PROFIT          0\n",
       "ASSETS          0\n",
       "MARKET VALUE    0\n",
       "dtype: int64"
      ]
     },
     "execution_count": 39,
     "metadata": {},
     "output_type": "execute_result"
    }
   ],
   "source": [
    "df.isna().sum()"
   ]
  },
  {
   "cell_type": "code",
   "execution_count": 13,
   "id": "bd9f73e2",
   "metadata": {},
   "outputs": [],
   "source": [
    "# Let's first save this scraped dataset before proceeding to the Data Cleaning stage.\n",
    "df.to_csv(\"Original_Scraped_data.csv\", index=False)"
   ]
  },
  {
   "cell_type": "markdown",
   "id": "dbefcb0c",
   "metadata": {},
   "source": [
    "### 2. Data Cleaning"
   ]
  },
  {
   "cell_type": "code",
   "execution_count": 31,
   "id": "599a5603",
   "metadata": {},
   "outputs": [],
   "source": [
    "# The first thing that catches my eye are the numeric values. \n",
    "# Let's just retain the numbers since we know all of them are in Billions (B) and the currency is Dollars ($)\n",
    "\n",
    "df = pd.read_csv(\"Original_Scraped_data.csv\")"
   ]
  },
  {
   "cell_type": "code",
   "execution_count": 38,
   "id": "1db11644",
   "metadata": {},
   "outputs": [
    {
     "name": "stdout",
     "output_type": "stream",
     "text": [
      "<class 'pandas.core.frame.DataFrame'>\n",
      "RangeIndex: 2000 entries, 0 to 1999\n",
      "Data columns (total 8 columns):\n",
      " #   Column        Non-Null Count  Dtype \n",
      "---  ------        --------------  ----- \n",
      " 0   RANK          2000 non-null   object\n",
      " 1   NAME          2000 non-null   object\n",
      " 2   HEADQUARTERS  2000 non-null   object\n",
      " 3   INDUSTRY      2000 non-null   object\n",
      " 4   SALES         2000 non-null   object\n",
      " 5   PROFIT        2000 non-null   object\n",
      " 6   ASSETS        2000 non-null   object\n",
      " 7   MARKET VALUE  2000 non-null   object\n",
      "dtypes: object(8)\n",
      "memory usage: 125.1+ KB\n"
     ]
    }
   ],
   "source": [
    "df.info()"
   ]
  },
  {
   "cell_type": "code",
   "execution_count": null,
   "id": "d34d9d53",
   "metadata": {},
   "outputs": [],
   "source": [
    "# # We'll will be using Regex for pattern matching and use .replace along with it\n",
    "def numeric_col_cleaning(col_name):\n",
    "    # Remove $ and B/M/K\n",
    "    df.loc[:, col_name] = df[col_name].str.replace(r'[$B]', '', regex=True) \n",
    "\n",
    "    # Strip any whitespaces\n",
    "    df[col_name] = df[col_name].str.strip()\n",
    "\n",
    "\n",
    "    \n",
    "numeric_col_cleaning('SALES')\n",
    "numeric_col_cleaning('PROFIT')\n",
    "numeric_col_cleaning('ASSETS')\n",
    "numeric_col_cleaning('MARKET VALUE')"
   ]
  },
  {
   "cell_type": "code",
   "execution_count": null,
   "id": "4bf96cb2",
   "metadata": {},
   "outputs": [],
   "source": [
    "# We'll will be using Regex for pattern matching replace all the $ signs, B (billion)/M (million)/K (thousands) signs\n",
    "# with empty strings and remove any whitespaces if present.\n",
    "# We will be keeping all the values in billions\n",
    "\n",
    "import re\n",
    "\n",
    "def numeric_col_cleaning(value: str) -> float:\n",
    "    match value.upper():\n",
    "        case value if 'K' in value:\n",
    "            return float((re.sub(r'[\\$,K]', '', value)).strip()) / 1000000\n",
    "        case value if 'M' in value:\n",
    "            return float((re.sub(r'[\\$,M]', '', value)).strip()) / 1000\n",
    "        case value if 'B' in value:\n",
    "            return float((re.sub(r'[\\$,B]', '', value)).strip())\n",
    "        case _:\n",
    "            return float((re.sub(r'[\\$,]', '', value)).strip())"
   ]
  },
  {
   "cell_type": "code",
   "execution_count": null,
   "id": "4f75270a",
   "metadata": {},
   "outputs": [],
   "source": [
    "df.loc[:, 'SALES'] = df['SALES'].apply(numeric_col_cleaning)\n",
    "df.loc[:, 'PROFIT'] = df['PROFIT'].apply(numeric_col_cleaning)\n",
    "df.loc[:, 'ASSETS'] = df['ASSETS'].apply(numeric_col_cleaning)\n",
    "df.loc[:, 'MARKET VALUE'] = df['MARKET VALUE'].apply(numeric_col_cleaning)"
   ]
  },
  {
   "cell_type": "code",
   "execution_count": null,
   "id": "dab460a6",
   "metadata": {},
   "outputs": [],
   "source": [
    "# Convert all the columns to Numeric type (float64)\n",
    "df[['SALES', 'PROFIT', 'ASSETS', 'MARKET VALUE']] = df[['SALES', 'PROFIT', 'ASSETS', 'MARKET VALUE']].apply(pd.to_numeric)"
   ]
  },
  {
   "cell_type": "code",
   "execution_count": 45,
   "id": "ea50fdaa",
   "metadata": {},
   "outputs": [
    {
     "data": {
      "text/html": [
       "<div>\n",
       "<style scoped>\n",
       "    .dataframe tbody tr th:only-of-type {\n",
       "        vertical-align: middle;\n",
       "    }\n",
       "\n",
       "    .dataframe tbody tr th {\n",
       "        vertical-align: top;\n",
       "    }\n",
       "\n",
       "    .dataframe thead th {\n",
       "        text-align: right;\n",
       "    }\n",
       "</style>\n",
       "<table border=\"1\" class=\"dataframe\">\n",
       "  <thead>\n",
       "    <tr style=\"text-align: right;\">\n",
       "      <th></th>\n",
       "      <th>RANK</th>\n",
       "      <th>NAME</th>\n",
       "      <th>HEADQUARTERS</th>\n",
       "      <th>INDUSTRY</th>\n",
       "      <th>SALES</th>\n",
       "      <th>PROFIT</th>\n",
       "      <th>ASSETS</th>\n",
       "      <th>MARKET VALUE</th>\n",
       "    </tr>\n",
       "  </thead>\n",
       "  <tbody>\n",
       "    <tr>\n",
       "      <th>0</th>\n",
       "      <td>1</td>\n",
       "      <td>JPMorganChase</td>\n",
       "      <td>United States</td>\n",
       "      <td>Banking</td>\n",
       "      <td>285.11</td>\n",
       "      <td>59.36</td>\n",
       "      <td>4357.86</td>\n",
       "      <td>677.8</td>\n",
       "    </tr>\n",
       "    <tr>\n",
       "      <th>1</th>\n",
       "      <td>2</td>\n",
       "      <td>Berkshire Hathaway</td>\n",
       "      <td>United States</td>\n",
       "      <td>Insurance</td>\n",
       "      <td>371.43</td>\n",
       "      <td>89.0</td>\n",
       "      <td>1153.88</td>\n",
       "      <td>1145.46</td>\n",
       "    </tr>\n",
       "    <tr>\n",
       "      <th>2</th>\n",
       "      <td>3</td>\n",
       "      <td>ICBC</td>\n",
       "      <td>China</td>\n",
       "      <td>Banking</td>\n",
       "      <td>221.96</td>\n",
       "      <td>50.84</td>\n",
       "      <td>6688.6</td>\n",
       "      <td>251.33</td>\n",
       "    </tr>\n",
       "    <tr>\n",
       "      <th>3</th>\n",
       "      <td>4</td>\n",
       "      <td>Saudi Arabian Oil Company (Saudi Aramco)</td>\n",
       "      <td>Saudi Arabia</td>\n",
       "      <td>Oil &amp; Gas Operations</td>\n",
       "      <td>480.15</td>\n",
       "      <td>104.97</td>\n",
       "      <td>645.03</td>\n",
       "      <td>1663.38</td>\n",
       "    </tr>\n",
       "    <tr>\n",
       "      <th>4</th>\n",
       "      <td>5</td>\n",
       "      <td>Amazon</td>\n",
       "      <td>United States</td>\n",
       "      <td>Retail and Wholesale</td>\n",
       "      <td>637.96</td>\n",
       "      <td>59.25</td>\n",
       "      <td>624.89</td>\n",
       "      <td>2005.64</td>\n",
       "    </tr>\n",
       "  </tbody>\n",
       "</table>\n",
       "</div>"
      ],
      "text/plain": [
       "  RANK                                      NAME   HEADQUARTERS  \\\n",
       "0    1                             JPMorganChase  United States   \n",
       "1    2                        Berkshire Hathaway  United States   \n",
       "2    3                                      ICBC          China   \n",
       "3    4  Saudi Arabian Oil Company (Saudi Aramco)   Saudi Arabia   \n",
       "4    5                                    Amazon  United States   \n",
       "\n",
       "               INDUSTRY   SALES  PROFIT   ASSETS MARKET VALUE  \n",
       "0               Banking  285.11   59.36  4357.86        677.8  \n",
       "1             Insurance  371.43    89.0  1153.88      1145.46  \n",
       "2               Banking  221.96   50.84   6688.6       251.33  \n",
       "3  Oil & Gas Operations  480.15  104.97   645.03      1663.38  \n",
       "4  Retail and Wholesale  637.96   59.25   624.89      2005.64  "
      ]
     },
     "execution_count": 45,
     "metadata": {},
     "output_type": "execute_result"
    }
   ],
   "source": [
    "df.head()"
   ]
  },
  {
   "cell_type": "code",
   "execution_count": null,
   "id": "1cafb7d4",
   "metadata": {},
   "outputs": [
    {
     "data": {
      "text/html": [
       "<div>\n",
       "<style scoped>\n",
       "    .dataframe tbody tr th:only-of-type {\n",
       "        vertical-align: middle;\n",
       "    }\n",
       "\n",
       "    .dataframe tbody tr th {\n",
       "        vertical-align: top;\n",
       "    }\n",
       "\n",
       "    .dataframe thead th {\n",
       "        text-align: right;\n",
       "    }\n",
       "</style>\n",
       "<table border=\"1\" class=\"dataframe\">\n",
       "  <thead>\n",
       "    <tr style=\"text-align: right;\">\n",
       "      <th></th>\n",
       "      <th>RANK</th>\n",
       "      <th>NAME</th>\n",
       "      <th>HEADQUARTERS</th>\n",
       "      <th>INDUSTRY</th>\n",
       "      <th>SALES</th>\n",
       "      <th>PROFIT</th>\n",
       "      <th>ASSETS</th>\n",
       "      <th>MARKET VALUE</th>\n",
       "    </tr>\n",
       "  </thead>\n",
       "  <tbody>\n",
       "    <tr>\n",
       "      <th>0</th>\n",
       "      <td>1</td>\n",
       "      <td>JPMorganChase</td>\n",
       "      <td>United States</td>\n",
       "      <td>Banking</td>\n",
       "      <td>285.110</td>\n",
       "      <td>59.3600</td>\n",
       "      <td>4357.86</td>\n",
       "      <td>677.800</td>\n",
       "    </tr>\n",
       "    <tr>\n",
       "      <th>1</th>\n",
       "      <td>2</td>\n",
       "      <td>Berkshire Hathaway</td>\n",
       "      <td>United States</td>\n",
       "      <td>Insurance</td>\n",
       "      <td>371.430</td>\n",
       "      <td>89.0000</td>\n",
       "      <td>1153.88</td>\n",
       "      <td>1145.460</td>\n",
       "    </tr>\n",
       "    <tr>\n",
       "      <th>2</th>\n",
       "      <td>3</td>\n",
       "      <td>ICBC</td>\n",
       "      <td>China</td>\n",
       "      <td>Banking</td>\n",
       "      <td>221.960</td>\n",
       "      <td>50.8400</td>\n",
       "      <td>6688.60</td>\n",
       "      <td>251.330</td>\n",
       "    </tr>\n",
       "    <tr>\n",
       "      <th>3</th>\n",
       "      <td>4</td>\n",
       "      <td>Saudi Arabian Oil Company (Saudi Aramco)</td>\n",
       "      <td>Saudi Arabia</td>\n",
       "      <td>Oil &amp; Gas Operations</td>\n",
       "      <td>480.150</td>\n",
       "      <td>104.9700</td>\n",
       "      <td>645.03</td>\n",
       "      <td>1663.380</td>\n",
       "    </tr>\n",
       "    <tr>\n",
       "      <th>4</th>\n",
       "      <td>5</td>\n",
       "      <td>Amazon</td>\n",
       "      <td>United States</td>\n",
       "      <td>Retail and Wholesale</td>\n",
       "      <td>637.960</td>\n",
       "      <td>59.2500</td>\n",
       "      <td>624.89</td>\n",
       "      <td>2005.640</td>\n",
       "    </tr>\n",
       "    <tr>\n",
       "      <th>...</th>\n",
       "      <td>...</td>\n",
       "      <td>...</td>\n",
       "      <td>...</td>\n",
       "      <td>...</td>\n",
       "      <td>...</td>\n",
       "      <td>...</td>\n",
       "      <td>...</td>\n",
       "      <td>...</td>\n",
       "    </tr>\n",
       "    <tr>\n",
       "      <th>1995</th>\n",
       "      <td>1,996</td>\n",
       "      <td>Dino Polska</td>\n",
       "      <td>Poland</td>\n",
       "      <td>Food Markets</td>\n",
       "      <td>7.360</td>\n",
       "      <td>0.3781</td>\n",
       "      <td>3.16</td>\n",
       "      <td>13.840</td>\n",
       "    </tr>\n",
       "    <tr>\n",
       "      <th>1996</th>\n",
       "      <td>1,997</td>\n",
       "      <td>China Aviation Oil</td>\n",
       "      <td>Singapore</td>\n",
       "      <td>Trading Companies</td>\n",
       "      <td>15.520</td>\n",
       "      <td>0.0784</td>\n",
       "      <td>1.99</td>\n",
       "      <td>0.559</td>\n",
       "    </tr>\n",
       "    <tr>\n",
       "      <th>1997</th>\n",
       "      <td>1,998</td>\n",
       "      <td>Jet2</td>\n",
       "      <td>United Kingdom</td>\n",
       "      <td>Business Services &amp; Supplies</td>\n",
       "      <td>8.790</td>\n",
       "      <td>0.6288</td>\n",
       "      <td>7.95</td>\n",
       "      <td>3.930</td>\n",
       "    </tr>\n",
       "    <tr>\n",
       "      <th>1998</th>\n",
       "      <td>1,998</td>\n",
       "      <td>Keiyo Bank</td>\n",
       "      <td>Japan</td>\n",
       "      <td>Banking</td>\n",
       "      <td>0.474</td>\n",
       "      <td>0.0927</td>\n",
       "      <td>42.56</td>\n",
       "      <td>0.679</td>\n",
       "    </tr>\n",
       "    <tr>\n",
       "      <th>1999</th>\n",
       "      <td>1,998</td>\n",
       "      <td>PT Lippo Karawaci</td>\n",
       "      <td>Indonesia</td>\n",
       "      <td>Construction</td>\n",
       "      <td>0.716</td>\n",
       "      <td>1.1800</td>\n",
       "      <td>3.34</td>\n",
       "      <td>0.366</td>\n",
       "    </tr>\n",
       "  </tbody>\n",
       "</table>\n",
       "<p>2000 rows × 8 columns</p>\n",
       "</div>"
      ],
      "text/plain": [
       "       RANK                                      NAME    HEADQUARTERS  \\\n",
       "0         1                             JPMorganChase   United States   \n",
       "1         2                        Berkshire Hathaway   United States   \n",
       "2         3                                      ICBC           China   \n",
       "3         4  Saudi Arabian Oil Company (Saudi Aramco)    Saudi Arabia   \n",
       "4         5                                    Amazon   United States   \n",
       "...     ...                                       ...             ...   \n",
       "1995  1,996                               Dino Polska          Poland   \n",
       "1996  1,997                        China Aviation Oil       Singapore   \n",
       "1997  1,998                                      Jet2  United Kingdom   \n",
       "1998  1,998                                Keiyo Bank           Japan   \n",
       "1999  1,998                         PT Lippo Karawaci       Indonesia   \n",
       "\n",
       "                          INDUSTRY    SALES    PROFIT   ASSETS  MARKET VALUE  \n",
       "0                          Banking  285.110   59.3600  4357.86       677.800  \n",
       "1                        Insurance  371.430   89.0000  1153.88      1145.460  \n",
       "2                          Banking  221.960   50.8400  6688.60       251.330  \n",
       "3             Oil & Gas Operations  480.150  104.9700   645.03      1663.380  \n",
       "4             Retail and Wholesale  637.960   59.2500   624.89      2005.640  \n",
       "...                            ...      ...       ...      ...           ...  \n",
       "1995                  Food Markets    7.360    0.3781     3.16        13.840  \n",
       "1996             Trading Companies   15.520    0.0784     1.99         0.559  \n",
       "1997  Business Services & Supplies    8.790    0.6288     7.95         3.930  \n",
       "1998                       Banking    0.474    0.0927    42.56         0.679  \n",
       "1999                  Construction    0.716    1.1800     3.34         0.366  \n",
       "\n",
       "[2000 rows x 8 columns]"
      ]
     },
     "execution_count": 47,
     "metadata": {},
     "output_type": "execute_result"
    }
   ],
   "source": [
    "# Checking if any other columns need to be cleaned or formatted\n",
    "df"
   ]
  },
  {
   "cell_type": "code",
   "execution_count": 68,
   "id": "16a9838c",
   "metadata": {},
   "outputs": [],
   "source": [
    "df.to_csv(\"Cleaned_data.csv\", index=False)"
   ]
  },
  {
   "cell_type": "markdown",
   "id": "b6b70803",
   "metadata": {},
   "source": [
    "### 3. Creating columns for analysis"
   ]
  },
  {
   "cell_type": "code",
   "execution_count": null,
   "id": "0584201f",
   "metadata": {},
   "outputs": [],
   "source": [
    "# Let's take a look at the Headquarters column first\n",
    "df = pd.read_csv(\"Cleaned_data.csv\")\n",
    "df=df[df[\"SALES\"] > 0]"
   ]
  },
  {
   "cell_type": "code",
   "execution_count": 5,
   "id": "a74d3734",
   "metadata": {},
   "outputs": [],
   "source": [
    "# Here each country is classified as a developed, emerging or frontier market\n",
    "market_classification = {\n",
    "    # Developed Markets\n",
    "    \"Australia\": \"Developed\",\n",
    "    \"Austria\": \"Developed\",\n",
    "    \"Belgium\": \"Developed\",\n",
    "    \"Bermuda\": \"Developed\",\n",
    "    \"Canada\": \"Developed\",\n",
    "    \"Cayman Islands\": \"Developed\",\n",
    "    \"Denmark\": \"Developed\",\n",
    "    \"Finland\": \"Developed\",\n",
    "    \"France\": \"Developed\",\n",
    "    \"Germany\": \"Developed\",\n",
    "    \"Hong Kong\": \"Developed\",\n",
    "    \"Ireland\": \"Developed\",\n",
    "    \"Israel\": \"Developed\",\n",
    "    \"Italy\": \"Developed\",\n",
    "    \"Japan\": \"Developed\",\n",
    "    \"Luxembourg\": \"Developed\",\n",
    "    \"Netherlands\": \"Developed\",\n",
    "    \"Norway\": \"Developed\",\n",
    "    \"Portugal\": \"Developed\",   \n",
    "    \"Singapore\": \"Developed\",\n",
    "    \"Spain\": \"Developed\",\n",
    "    \"Sweden\": \"Developed\",\n",
    "    \"Switzerland\": \"Developed\",\n",
    "    \"United Kingdom\": \"Developed\",\n",
    "    \"United States\": \"Developed\",\n",
    "\n",
    "    # Emerging Markets\n",
    "    \"Argentina\": \"Emerging\",\n",
    "    \"Brazil\": \"Emerging\",\n",
    "    \"Chile\": \"Emerging\",\n",
    "    \"China\": \"Emerging\",\n",
    "    \"Colombia\": \"Emerging\",\n",
    "    \"Czech Republic\": \"Emerging\",\n",
    "    \"Egypt\": \"Emerging\",\n",
    "    \"Greece\": \"Emerging\",\n",
    "    \"Hungary\": \"Emerging\",\n",
    "    \"India\": \"Emerging\",\n",
    "    \"Indonesia\": \"Emerging\",\n",
    "    \"Kuwait\": \"Emerging\",\n",
    "    \"Malaysia\": \"Emerging\",\n",
    "    \"Mexico\": \"Emerging\",\n",
    "    \"Peru\": \"Emerging\",\n",
    "    \"Philippines\": \"Emerging\",\n",
    "    \"Poland\": \"Emerging\",\n",
    "    \"Qatar\": \"Emerging\",\n",
    "    \"Saudi Arabia\": \"Emerging\",\n",
    "    \"South Africa\": \"Emerging\",\n",
    "    \"South Korea\": \"Emerging\",\n",
    "    \"Taiwan\": \"Emerging\",\n",
    "    \"Thailand\": \"Emerging\",\n",
    "    \"Turkey\": \"Emerging\",\n",
    "    \"United Arab Emirates\": \"Emerging\",\n",
    "\n",
    "    # Frontier Markets\n",
    "    \"Bahrain\": \"Frontier\",\n",
    "    \"Cyprus\": \"Frontier\",\n",
    "    \"Jordan\": \"Frontier\",\n",
    "    \"Kazakhstan\": \"Frontier\",\n",
    "    \"Lebanon\": \"Frontier\",\n",
    "    \"Morocco\": \"Frontier\",\n",
    "    \"Oman\": \"Frontier\",\n",
    "    \"Panama\": \"Frontier\",\n",
    "    \"Romania\": \"Frontier\",\n",
    "    \"Slovenia\": \"Frontier\",\n",
    "    \"Vietnam\": \"Frontier\"\n",
    "}\n"
   ]
  },
  {
   "cell_type": "code",
   "execution_count": 6,
   "id": "98100a86",
   "metadata": {},
   "outputs": [],
   "source": [
    "# Now lets create a new column that classifies a country as a Developed/Emerging/Frontier market\n",
    "df['MARKET TYPE'] = df['HEADQUARTERS'].map(market_classification)"
   ]
  },
  {
   "cell_type": "code",
   "execution_count": 7,
   "id": "2a99a656",
   "metadata": {},
   "outputs": [
    {
     "data": {
      "text/html": [
       "<div>\n",
       "<style scoped>\n",
       "    .dataframe tbody tr th:only-of-type {\n",
       "        vertical-align: middle;\n",
       "    }\n",
       "\n",
       "    .dataframe tbody tr th {\n",
       "        vertical-align: top;\n",
       "    }\n",
       "\n",
       "    .dataframe thead th {\n",
       "        text-align: right;\n",
       "    }\n",
       "</style>\n",
       "<table border=\"1\" class=\"dataframe\">\n",
       "  <thead>\n",
       "    <tr style=\"text-align: right;\">\n",
       "      <th></th>\n",
       "      <th>RANK</th>\n",
       "      <th>NAME</th>\n",
       "      <th>HEADQUARTERS</th>\n",
       "      <th>INDUSTRY</th>\n",
       "      <th>SALES</th>\n",
       "      <th>PROFIT</th>\n",
       "      <th>ASSETS</th>\n",
       "      <th>MARKET VALUE</th>\n",
       "      <th>MARKET TYPE</th>\n",
       "    </tr>\n",
       "  </thead>\n",
       "  <tbody>\n",
       "    <tr>\n",
       "      <th>0</th>\n",
       "      <td>1</td>\n",
       "      <td>JPMorganChase</td>\n",
       "      <td>United States</td>\n",
       "      <td>Banking</td>\n",
       "      <td>285.11</td>\n",
       "      <td>59.36</td>\n",
       "      <td>4357.86</td>\n",
       "      <td>677.80</td>\n",
       "      <td>Developed</td>\n",
       "    </tr>\n",
       "    <tr>\n",
       "      <th>1</th>\n",
       "      <td>2</td>\n",
       "      <td>Berkshire Hathaway</td>\n",
       "      <td>United States</td>\n",
       "      <td>Insurance</td>\n",
       "      <td>371.43</td>\n",
       "      <td>89.00</td>\n",
       "      <td>1153.88</td>\n",
       "      <td>1145.46</td>\n",
       "      <td>Developed</td>\n",
       "    </tr>\n",
       "  </tbody>\n",
       "</table>\n",
       "</div>"
      ],
      "text/plain": [
       "  RANK                NAME   HEADQUARTERS   INDUSTRY   SALES  PROFIT   ASSETS  \\\n",
       "0    1       JPMorganChase  United States    Banking  285.11   59.36  4357.86   \n",
       "1    2  Berkshire Hathaway  United States  Insurance  371.43   89.00  1153.88   \n",
       "\n",
       "   MARKET VALUE MARKET TYPE  \n",
       "0        677.80   Developed  \n",
       "1       1145.46   Developed  "
      ]
     },
     "execution_count": 7,
     "metadata": {},
     "output_type": "execute_result"
    }
   ],
   "source": [
    "df.head(2)"
   ]
  },
  {
   "cell_type": "code",
   "execution_count": null,
   "id": "1226d302",
   "metadata": {},
   "outputs": [],
   "source": []
  },
  {
   "cell_type": "markdown",
   "id": "f0e618d0",
   "metadata": {},
   "source": [
    "### Answering Business Questions"
   ]
  },
  {
   "cell_type": "markdown",
   "id": "0326b248",
   "metadata": {},
   "source": [
    "#### 1. Industry & Market Trends"
   ]
  },
  {
   "cell_type": "markdown",
   "id": "e653012d",
   "metadata": {},
   "source": [
    "##### Question 1: Which industries dominate the Global 2000 in terms of market value or sales?"
   ]
  },
  {
   "cell_type": "code",
   "execution_count": null,
   "id": "7ba38e95",
   "metadata": {},
   "outputs": [],
   "source": [
    "grouped_industry = (df.groupby('INDUSTRY').agg({'MARKET VALUE': 'sum', 'SALES' : 'sum'})).sort_values(by = ['SALES'], ascending=[False])"
   ]
  },
  {
   "cell_type": "code",
   "execution_count": null,
   "id": "c4210685",
   "metadata": {},
   "outputs": [
    {
     "data": {
      "text/html": [
       "<div>\n",
       "<style scoped>\n",
       "    .dataframe tbody tr th:only-of-type {\n",
       "        vertical-align: middle;\n",
       "    }\n",
       "\n",
       "    .dataframe tbody tr th {\n",
       "        vertical-align: top;\n",
       "    }\n",
       "\n",
       "    .dataframe thead th {\n",
       "        text-align: right;\n",
       "    }\n",
       "</style>\n",
       "<table border=\"1\" class=\"dataframe\">\n",
       "  <thead>\n",
       "    <tr style=\"text-align: right;\">\n",
       "      <th></th>\n",
       "      <th>MARKET VALUE</th>\n",
       "      <th>SALES</th>\n",
       "    </tr>\n",
       "    <tr>\n",
       "      <th>INDUSTRY</th>\n",
       "      <th></th>\n",
       "      <th></th>\n",
       "    </tr>\n",
       "  </thead>\n",
       "  <tbody>\n",
       "    <tr>\n",
       "      <th>IT Software &amp; Services</th>\n",
       "      <td>13314.06</td>\n",
       "      <td>2001.633</td>\n",
       "    </tr>\n",
       "    <tr>\n",
       "      <th>Banking</th>\n",
       "      <td>9922.81</td>\n",
       "      <td>6432.954</td>\n",
       "    </tr>\n",
       "    <tr>\n",
       "      <th>Semiconductors</th>\n",
       "      <td>6020.81</td>\n",
       "      <td>733.952</td>\n",
       "    </tr>\n",
       "    <tr>\n",
       "      <th>Oil &amp; Gas Operations</th>\n",
       "      <td>5317.09</td>\n",
       "      <td>5231.750</td>\n",
       "    </tr>\n",
       "    <tr>\n",
       "      <th>Technology Hardware &amp; Equipment</th>\n",
       "      <td>5268.89</td>\n",
       "      <td>1996.864</td>\n",
       "    </tr>\n",
       "  </tbody>\n",
       "</table>\n",
       "</div>"
      ],
      "text/plain": [
       "                                 MARKET VALUE     SALES\n",
       "INDUSTRY                                               \n",
       "IT Software & Services               13314.06  2001.633\n",
       "Banking                               9922.81  6432.954\n",
       "Semiconductors                        6020.81   733.952\n",
       "Oil & Gas Operations                  5317.09  5231.750\n",
       "Technology Hardware & Equipment       5268.89  1996.864"
      ]
     },
     "execution_count": 14,
     "metadata": {},
     "output_type": "execute_result"
    }
   ],
   "source": [
    "grouped_industry.head(5) # Ordered by market value\n",
    "\n",
    "# Insights:\n",
    "# IT Software & Services dominates in terms of Market Value with $13300 B\n",
    "# Banking comes 2nd in line with ~ $9900 B"
   ]
  },
  {
   "cell_type": "code",
   "execution_count": null,
   "id": "85fe0bb0",
   "metadata": {},
   "outputs": [
    {
     "data": {
      "text/html": [
       "<div>\n",
       "<style scoped>\n",
       "    .dataframe tbody tr th:only-of-type {\n",
       "        vertical-align: middle;\n",
       "    }\n",
       "\n",
       "    .dataframe tbody tr th {\n",
       "        vertical-align: top;\n",
       "    }\n",
       "\n",
       "    .dataframe thead th {\n",
       "        text-align: right;\n",
       "    }\n",
       "</style>\n",
       "<table border=\"1\" class=\"dataframe\">\n",
       "  <thead>\n",
       "    <tr style=\"text-align: right;\">\n",
       "      <th></th>\n",
       "      <th>MARKET VALUE</th>\n",
       "      <th>SALES</th>\n",
       "    </tr>\n",
       "    <tr>\n",
       "      <th>INDUSTRY</th>\n",
       "      <th></th>\n",
       "      <th></th>\n",
       "    </tr>\n",
       "  </thead>\n",
       "  <tbody>\n",
       "    <tr>\n",
       "      <th>Banking</th>\n",
       "      <td>9922.810</td>\n",
       "      <td>6432.954</td>\n",
       "    </tr>\n",
       "    <tr>\n",
       "      <th>Oil &amp; Gas Operations</th>\n",
       "      <td>5317.090</td>\n",
       "      <td>5231.750</td>\n",
       "    </tr>\n",
       "    <tr>\n",
       "      <th>Insurance</th>\n",
       "      <td>4869.964</td>\n",
       "      <td>4376.690</td>\n",
       "    </tr>\n",
       "    <tr>\n",
       "      <th>Consumer Durables</th>\n",
       "      <td>2983.678</td>\n",
       "      <td>3789.550</td>\n",
       "    </tr>\n",
       "    <tr>\n",
       "      <th>Retailing</th>\n",
       "      <td>3908.163</td>\n",
       "      <td>3592.410</td>\n",
       "    </tr>\n",
       "  </tbody>\n",
       "</table>\n",
       "</div>"
      ],
      "text/plain": [
       "                      MARKET VALUE     SALES\n",
       "INDUSTRY                                    \n",
       "Banking                   9922.810  6432.954\n",
       "Oil & Gas Operations      5317.090  5231.750\n",
       "Insurance                 4869.964  4376.690\n",
       "Consumer Durables         2983.678  3789.550\n",
       "Retailing                 3908.163  3592.410"
      ]
     },
     "execution_count": 16,
     "metadata": {},
     "output_type": "execute_result"
    }
   ],
   "source": [
    "grouped_industry.head(5) # Ordered by market value\n",
    "\n",
    "# Insights\n",
    "# Banking dominates in terms of Sales with $6400 B \n",
    "# Oil & Gas Operations comes second with $5200 B and also manages to come within the top 5 industries that dominate in terms\n",
    "# of Market Value (in 4th place)"
   ]
  },
  {
   "cell_type": "markdown",
   "id": "bb0ec85b",
   "metadata": {},
   "source": [
    "##### Question 2: Do some industries achieve higher profitability margins (profit/sales) than others?"
   ]
  },
  {
   "cell_type": "code",
   "execution_count": null,
   "id": "548423be",
   "metadata": {},
   "outputs": [],
   "source": [
    "# Profit Margin = % of Revenue that becomes Profit\n",
    "# Formula: Profit Margin = Profit / Sales\n",
    "\n",
    "# Let's create a new column 'Profit Margin'\n",
    "df['PROFIT MARGIN'] = df['PROFIT'] / df['SALES']"
   ]
  },
  {
   "cell_type": "code",
   "execution_count": 30,
   "id": "5990d12f",
   "metadata": {},
   "outputs": [],
   "source": [
    "# We will now group by the industry and compute the median profit margins for each industry\n",
    "industry_margins = df.groupby('INDUSTRY').agg({\"PROFIT MARGIN\": 'mean'}).sort_values(by='PROFIT MARGIN', ascending=False)"
   ]
  },
  {
   "cell_type": "code",
   "execution_count": null,
   "id": "2aab5058",
   "metadata": {},
   "outputs": [
    {
     "data": {
      "text/html": [
       "<div>\n",
       "<style scoped>\n",
       "    .dataframe tbody tr th:only-of-type {\n",
       "        vertical-align: middle;\n",
       "    }\n",
       "\n",
       "    .dataframe tbody tr th {\n",
       "        vertical-align: top;\n",
       "    }\n",
       "\n",
       "    .dataframe thead th {\n",
       "        text-align: right;\n",
       "    }\n",
       "</style>\n",
       "<table border=\"1\" class=\"dataframe\">\n",
       "  <thead>\n",
       "    <tr style=\"text-align: right;\">\n",
       "      <th></th>\n",
       "      <th>PROFIT MARGIN</th>\n",
       "    </tr>\n",
       "    <tr>\n",
       "      <th>INDUSTRY</th>\n",
       "      <th></th>\n",
       "    </tr>\n",
       "  </thead>\n",
       "  <tbody>\n",
       "    <tr>\n",
       "      <th>Diversified Financials</th>\n",
       "      <td>0.431460</td>\n",
       "    </tr>\n",
       "    <tr>\n",
       "      <th>Construction, Chemicals, Raw Materials</th>\n",
       "      <td>0.319767</td>\n",
       "    </tr>\n",
       "    <tr>\n",
       "      <th>Utilities</th>\n",
       "      <td>0.225972</td>\n",
       "    </tr>\n",
       "    <tr>\n",
       "      <th>Drugs &amp; Biotechnology</th>\n",
       "      <td>0.194733</td>\n",
       "    </tr>\n",
       "    <tr>\n",
       "      <th>Banking</th>\n",
       "      <td>0.184947</td>\n",
       "    </tr>\n",
       "  </tbody>\n",
       "</table>\n",
       "</div>"
      ],
      "text/plain": [
       "                                        PROFIT MARGIN\n",
       "INDUSTRY                                             \n",
       "Diversified Financials                       0.431460\n",
       "Construction, Chemicals, Raw Materials       0.319767\n",
       "Utilities                                    0.225972\n",
       "Drugs & Biotechnology                        0.194733\n",
       "Banking                                      0.184947"
      ]
     },
     "execution_count": 32,
     "metadata": {},
     "output_type": "execute_result"
    }
   ],
   "source": [
    "industry_margins.head()\n",
    "# Insights : Top 2 => Diversified Financials and Construction, Chemicals, Raw Materials industry\n",
    "# Probably because of increase in preference for \"Rear Earth Minerals\""
   ]
  },
  {
   "cell_type": "code",
   "execution_count": null,
   "id": "ceaa5caf",
   "metadata": {},
   "outputs": [
    {
     "data": {
      "text/html": [
       "<div>\n",
       "<style scoped>\n",
       "    .dataframe tbody tr th:only-of-type {\n",
       "        vertical-align: middle;\n",
       "    }\n",
       "\n",
       "    .dataframe tbody tr th {\n",
       "        vertical-align: top;\n",
       "    }\n",
       "\n",
       "    .dataframe thead th {\n",
       "        text-align: right;\n",
       "    }\n",
       "</style>\n",
       "<table border=\"1\" class=\"dataframe\">\n",
       "  <thead>\n",
       "    <tr style=\"text-align: right;\">\n",
       "      <th></th>\n",
       "      <th>PROFIT MARGIN</th>\n",
       "    </tr>\n",
       "    <tr>\n",
       "      <th>INDUSTRY</th>\n",
       "      <th></th>\n",
       "    </tr>\n",
       "  </thead>\n",
       "  <tbody>\n",
       "    <tr>\n",
       "      <th>Chemicals</th>\n",
       "      <td>0.058002</td>\n",
       "    </tr>\n",
       "    <tr>\n",
       "      <th>Trading Companies</th>\n",
       "      <td>0.036073</td>\n",
       "    </tr>\n",
       "    <tr>\n",
       "      <th>Food Markets</th>\n",
       "      <td>0.029606</td>\n",
       "    </tr>\n",
       "    <tr>\n",
       "      <th>Automotive (Automotive and Suppliers)</th>\n",
       "      <td>0.021742</td>\n",
       "    </tr>\n",
       "    <tr>\n",
       "      <th>Media</th>\n",
       "      <td>0.016858</td>\n",
       "    </tr>\n",
       "  </tbody>\n",
       "</table>\n",
       "</div>"
      ],
      "text/plain": [
       "                                       PROFIT MARGIN\n",
       "INDUSTRY                                            \n",
       "Chemicals                                   0.058002\n",
       "Trading Companies                           0.036073\n",
       "Food Markets                                0.029606\n",
       "Automotive (Automotive and Suppliers)       0.021742\n",
       "Media                                       0.016858"
      ]
     },
     "execution_count": 33,
     "metadata": {},
     "output_type": "execute_result"
    }
   ],
   "source": [
    "industry_margins.tail()\n",
    "# At the bottom table lie the Automotive and Media industry\n",
    "# A probable reason: ..."
   ]
  },
  {
   "cell_type": "markdown",
   "id": "1d813c7f",
   "metadata": {},
   "source": [
    "##### Question 3: Which industries are asset-heavy vs. asset-light?"
   ]
  },
  {
   "cell_type": "code",
   "execution_count": null,
   "id": "e69692f8",
   "metadata": {},
   "outputs": [],
   "source": [
    "# In simple words, the amount of assets required by industries to generate revenue\n",
    "# Formula: Asset Intensity = Assets / Sales\n",
    "\n",
    "# Creating a new column\n",
    "df['ASSET INTENSITY'] = df['ASSETS'] / df['SALES']"
   ]
  },
  {
   "cell_type": "code",
   "execution_count": 37,
   "id": "13fcce34",
   "metadata": {},
   "outputs": [
    {
     "data": {
      "text/html": [
       "<div>\n",
       "<style scoped>\n",
       "    .dataframe tbody tr th:only-of-type {\n",
       "        vertical-align: middle;\n",
       "    }\n",
       "\n",
       "    .dataframe tbody tr th {\n",
       "        vertical-align: top;\n",
       "    }\n",
       "\n",
       "    .dataframe thead th {\n",
       "        text-align: right;\n",
       "    }\n",
       "</style>\n",
       "<table border=\"1\" class=\"dataframe\">\n",
       "  <thead>\n",
       "    <tr style=\"text-align: right;\">\n",
       "      <th></th>\n",
       "      <th>RANK</th>\n",
       "      <th>NAME</th>\n",
       "      <th>HEADQUARTERS</th>\n",
       "      <th>INDUSTRY</th>\n",
       "      <th>SALES</th>\n",
       "      <th>PROFIT</th>\n",
       "      <th>ASSETS</th>\n",
       "      <th>MARKET VALUE</th>\n",
       "      <th>MARKET TYPE</th>\n",
       "      <th>PROFIT MARGIN</th>\n",
       "      <th>ASSET INTENSITY</th>\n",
       "    </tr>\n",
       "  </thead>\n",
       "  <tbody>\n",
       "    <tr>\n",
       "      <th>0</th>\n",
       "      <td>1</td>\n",
       "      <td>JPMorganChase</td>\n",
       "      <td>United States</td>\n",
       "      <td>Banking</td>\n",
       "      <td>285.11</td>\n",
       "      <td>59.36</td>\n",
       "      <td>4357.86</td>\n",
       "      <td>677.80</td>\n",
       "      <td>Developed</td>\n",
       "      <td>0.208200</td>\n",
       "      <td>15.284837</td>\n",
       "    </tr>\n",
       "    <tr>\n",
       "      <th>1</th>\n",
       "      <td>2</td>\n",
       "      <td>Berkshire Hathaway</td>\n",
       "      <td>United States</td>\n",
       "      <td>Insurance</td>\n",
       "      <td>371.43</td>\n",
       "      <td>89.00</td>\n",
       "      <td>1153.88</td>\n",
       "      <td>1145.46</td>\n",
       "      <td>Developed</td>\n",
       "      <td>0.239614</td>\n",
       "      <td>3.106588</td>\n",
       "    </tr>\n",
       "    <tr>\n",
       "      <th>2</th>\n",
       "      <td>3</td>\n",
       "      <td>ICBC</td>\n",
       "      <td>China</td>\n",
       "      <td>Banking</td>\n",
       "      <td>221.96</td>\n",
       "      <td>50.84</td>\n",
       "      <td>6688.60</td>\n",
       "      <td>251.33</td>\n",
       "      <td>Emerging</td>\n",
       "      <td>0.229050</td>\n",
       "      <td>30.134258</td>\n",
       "    </tr>\n",
       "    <tr>\n",
       "      <th>3</th>\n",
       "      <td>4</td>\n",
       "      <td>Saudi Arabian Oil Company (Saudi Aramco)</td>\n",
       "      <td>Saudi Arabia</td>\n",
       "      <td>Oil &amp; Gas Operations</td>\n",
       "      <td>480.15</td>\n",
       "      <td>104.97</td>\n",
       "      <td>645.03</td>\n",
       "      <td>1663.38</td>\n",
       "      <td>Emerging</td>\n",
       "      <td>0.218619</td>\n",
       "      <td>1.343393</td>\n",
       "    </tr>\n",
       "    <tr>\n",
       "      <th>4</th>\n",
       "      <td>5</td>\n",
       "      <td>Amazon</td>\n",
       "      <td>United States</td>\n",
       "      <td>Retail and Wholesale</td>\n",
       "      <td>637.96</td>\n",
       "      <td>59.25</td>\n",
       "      <td>624.89</td>\n",
       "      <td>2005.64</td>\n",
       "      <td>Developed</td>\n",
       "      <td>0.092874</td>\n",
       "      <td>0.979513</td>\n",
       "    </tr>\n",
       "  </tbody>\n",
       "</table>\n",
       "</div>"
      ],
      "text/plain": [
       "  RANK                                      NAME   HEADQUARTERS  \\\n",
       "0    1                             JPMorganChase  United States   \n",
       "1    2                        Berkshire Hathaway  United States   \n",
       "2    3                                      ICBC          China   \n",
       "3    4  Saudi Arabian Oil Company (Saudi Aramco)   Saudi Arabia   \n",
       "4    5                                    Amazon  United States   \n",
       "\n",
       "               INDUSTRY   SALES  PROFIT   ASSETS  MARKET VALUE MARKET TYPE  \\\n",
       "0               Banking  285.11   59.36  4357.86        677.80   Developed   \n",
       "1             Insurance  371.43   89.00  1153.88       1145.46   Developed   \n",
       "2               Banking  221.96   50.84  6688.60        251.33    Emerging   \n",
       "3  Oil & Gas Operations  480.15  104.97   645.03       1663.38    Emerging   \n",
       "4  Retail and Wholesale  637.96   59.25   624.89       2005.64   Developed   \n",
       "\n",
       "   PROFIT MARGIN  ASSET INTENSITY  \n",
       "0       0.208200        15.284837  \n",
       "1       0.239614         3.106588  \n",
       "2       0.229050        30.134258  \n",
       "3       0.218619         1.343393  \n",
       "4       0.092874         0.979513  "
      ]
     },
     "execution_count": 37,
     "metadata": {},
     "output_type": "execute_result"
    }
   ],
   "source": [
    "df.head()"
   ]
  },
  {
   "cell_type": "code",
   "execution_count": 38,
   "id": "584824a6",
   "metadata": {},
   "outputs": [],
   "source": [
    "industry_assets = df.groupby(\"INDUSTRY\").agg({\"ASSET INTENSITY\": 'mean'}).sort_values(by='ASSET INTENSITY', ascending=False)"
   ]
  },
  {
   "cell_type": "code",
   "execution_count": null,
   "id": "b2f86d8d",
   "metadata": {},
   "outputs": [
    {
     "data": {
      "text/html": [
       "<div>\n",
       "<style scoped>\n",
       "    .dataframe tbody tr th:only-of-type {\n",
       "        vertical-align: middle;\n",
       "    }\n",
       "\n",
       "    .dataframe tbody tr th {\n",
       "        vertical-align: top;\n",
       "    }\n",
       "\n",
       "    .dataframe thead th {\n",
       "        text-align: right;\n",
       "    }\n",
       "</style>\n",
       "<table border=\"1\" class=\"dataframe\">\n",
       "  <thead>\n",
       "    <tr style=\"text-align: right;\">\n",
       "      <th></th>\n",
       "      <th>ASSET INTENSITY</th>\n",
       "    </tr>\n",
       "    <tr>\n",
       "      <th>INDUSTRY</th>\n",
       "      <th></th>\n",
       "    </tr>\n",
       "  </thead>\n",
       "  <tbody>\n",
       "    <tr>\n",
       "      <th>Diversified Financials</th>\n",
       "      <td>23.806902</td>\n",
       "    </tr>\n",
       "    <tr>\n",
       "      <th>Banking</th>\n",
       "      <td>22.802628</td>\n",
       "    </tr>\n",
       "    <tr>\n",
       "      <th>Insurance</th>\n",
       "      <td>7.807973</td>\n",
       "    </tr>\n",
       "    <tr>\n",
       "      <th>Utilities</th>\n",
       "      <td>5.190389</td>\n",
       "    </tr>\n",
       "    <tr>\n",
       "      <th>Business Services &amp; Supplies</th>\n",
       "      <td>5.129528</td>\n",
       "    </tr>\n",
       "  </tbody>\n",
       "</table>\n",
       "</div>"
      ],
      "text/plain": [
       "                              ASSET INTENSITY\n",
       "INDUSTRY                                     \n",
       "Diversified Financials              23.806902\n",
       "Banking                             22.802628\n",
       "Insurance                            7.807973\n",
       "Utilities                            5.190389\n",
       "Business Services & Supplies         5.129528"
      ]
     },
     "execution_count": 43,
     "metadata": {},
     "output_type": "execute_result"
    }
   ],
   "source": [
    "industry_assets.head()\n",
    "# Insights: Diversified Financials and Banking  -> heavy asset"
   ]
  },
  {
   "cell_type": "code",
   "execution_count": null,
   "id": "330d4f54",
   "metadata": {},
   "outputs": [
    {
     "data": {
      "text/html": [
       "<div>\n",
       "<style scoped>\n",
       "    .dataframe tbody tr th:only-of-type {\n",
       "        vertical-align: middle;\n",
       "    }\n",
       "\n",
       "    .dataframe tbody tr th {\n",
       "        vertical-align: top;\n",
       "    }\n",
       "\n",
       "    .dataframe thead th {\n",
       "        text-align: right;\n",
       "    }\n",
       "</style>\n",
       "<table border=\"1\" class=\"dataframe\">\n",
       "  <thead>\n",
       "    <tr style=\"text-align: right;\">\n",
       "      <th></th>\n",
       "      <th>ASSET INTENSITY</th>\n",
       "    </tr>\n",
       "    <tr>\n",
       "      <th>INDUSTRY</th>\n",
       "      <th></th>\n",
       "    </tr>\n",
       "  </thead>\n",
       "  <tbody>\n",
       "    <tr>\n",
       "      <th>Retailing</th>\n",
       "      <td>1.027497</td>\n",
       "    </tr>\n",
       "    <tr>\n",
       "      <th>Retail and Wholesale</th>\n",
       "      <td>0.979513</td>\n",
       "    </tr>\n",
       "    <tr>\n",
       "      <th>Trading Companies</th>\n",
       "      <td>0.879135</td>\n",
       "    </tr>\n",
       "    <tr>\n",
       "      <th>Food Markets</th>\n",
       "      <td>0.638704</td>\n",
       "    </tr>\n",
       "    <tr>\n",
       "      <th>Automotive (Automotive and Suppliers)</th>\n",
       "      <td>0.602146</td>\n",
       "    </tr>\n",
       "  </tbody>\n",
       "</table>\n",
       "</div>"
      ],
      "text/plain": [
       "                                       ASSET INTENSITY\n",
       "INDUSTRY                                              \n",
       "Retailing                                     1.027497\n",
       "Retail and Wholesale                          0.979513\n",
       "Trading Companies                             0.879135\n",
       "Food Markets                                  0.638704\n",
       "Automotive (Automotive and Suppliers)         0.602146"
      ]
     },
     "execution_count": 40,
     "metadata": {},
     "output_type": "execute_result"
    }
   ],
   "source": [
    "industry_assets.tail() # Food Markets, Automotive -> Light Asset"
   ]
  },
  {
   "cell_type": "markdown",
   "id": "7ad7040b",
   "metadata": {},
   "source": [
    "#### 2. Geographic / Regional Insights"
   ]
  },
  {
   "cell_type": "markdown",
   "id": "1f2ddb27",
   "metadata": {},
   "source": [
    "##### Question 1: How do companies from developed vs. emerging markets compare in market value?"
   ]
  },
  {
   "cell_type": "code",
   "execution_count": 54,
   "id": "185b73d0",
   "metadata": {},
   "outputs": [],
   "source": [
    "# Group by market type, filter out frontier type\n",
    "grouped_marker_df = df[df['MARKET TYPE'].isin(['Emerging', 'Developed'])].groupby('MARKET TYPE').agg({\"MARKET VALUE\": \"mean\"})"
   ]
  },
  {
   "cell_type": "code",
   "execution_count": null,
   "id": "ca9ed13f",
   "metadata": {},
   "outputs": [
    {
     "data": {
      "text/html": [
       "<div>\n",
       "<style scoped>\n",
       "    .dataframe tbody tr th:only-of-type {\n",
       "        vertical-align: middle;\n",
       "    }\n",
       "\n",
       "    .dataframe tbody tr th {\n",
       "        vertical-align: top;\n",
       "    }\n",
       "\n",
       "    .dataframe thead th {\n",
       "        text-align: right;\n",
       "    }\n",
       "</style>\n",
       "<table border=\"1\" class=\"dataframe\">\n",
       "  <thead>\n",
       "    <tr style=\"text-align: right;\">\n",
       "      <th></th>\n",
       "      <th>MARKET VALUE</th>\n",
       "    </tr>\n",
       "    <tr>\n",
       "      <th>MARKET TYPE</th>\n",
       "      <th></th>\n",
       "    </tr>\n",
       "  </thead>\n",
       "  <tbody>\n",
       "    <tr>\n",
       "      <th>Developed</th>\n",
       "      <td>55.414683</td>\n",
       "    </tr>\n",
       "    <tr>\n",
       "      <th>Emerging</th>\n",
       "      <td>26.263563</td>\n",
       "    </tr>\n",
       "  </tbody>\n",
       "</table>\n",
       "</div>"
      ],
      "text/plain": [
       "             MARKET VALUE\n",
       "MARKET TYPE              \n",
       "Developed       55.414683\n",
       "Emerging        26.263563"
      ]
     },
     "execution_count": 55,
     "metadata": {},
     "output_type": "execute_result"
    }
   ],
   "source": [
    "grouped_marker_df\n",
    "# Insight: A difference of 71.3% between the market values of Emerging and Developed markets."
   ]
  },
  {
   "cell_type": "markdown",
   "id": "4a09df5d",
   "metadata": {},
   "source": [
    "##### Question 2: Are there regional differences in average profit margin or return on assets (ROA)?"
   ]
  },
  {
   "cell_type": "code",
   "execution_count": 48,
   "id": "71ee4dde",
   "metadata": {},
   "outputs": [],
   "source": [
    "# Return on assets = Profit / Assets\n",
    "df['ROA'] = df['PROFIT'] / df['ASSETS']"
   ]
  },
  {
   "cell_type": "code",
   "execution_count": 58,
   "id": "0f3c79ea",
   "metadata": {},
   "outputs": [],
   "source": [
    "country_region_map = {\n",
    "    # MENA\n",
    "    \"Bahrain\": \"MENA\",\n",
    "    \"Egypt\": \"MENA\",\n",
    "    \"Israel\": \"MENA\",\n",
    "    \"Jordan\": \"MENA\",\n",
    "    \"Kuwait\": \"MENA\",\n",
    "    \"Lebanon\": \"MENA\",\n",
    "    \"Morocco\": \"MENA\",\n",
    "    \"Oman\": \"MENA\",\n",
    "    \"Qatar\": \"MENA\",\n",
    "    \"Saudi Arabia\": \"MENA\",\n",
    "    \"United Arab Emirates\": \"MENA\",\n",
    "\n",
    "    # Europe\n",
    "    \"Austria\": \"Europe\",\n",
    "    \"Belgium\": \"Europe\",\n",
    "    \"Cyprus\": \"Europe\",\n",
    "    \"Czech Republic\": \"Europe\",\n",
    "    \"Denmark\": \"Europe\",\n",
    "    \"Finland\": \"Europe\",\n",
    "    \"France\": \"Europe\",\n",
    "    \"Germany\": \"Europe\",\n",
    "    \"Greece\": \"Europe\",\n",
    "    \"Hungary\": \"Europe\",\n",
    "    \"Ireland\": \"Europe\",\n",
    "    \"Italy\": \"Europe\",\n",
    "    \"Luxembourg\": \"Europe\",\n",
    "    \"Netherlands\": \"Europe\",\n",
    "    \"Norway\": \"Europe\",\n",
    "    \"Poland\": \"Europe\",\n",
    "    \"Portugal\": \"Europe\",\n",
    "    \"Romania\": \"Europe\",\n",
    "    \"Slovenia\": \"Europe\",\n",
    "    \"Spain\": \"Europe\",\n",
    "    \"Sweden\": \"Europe\",\n",
    "    \"Switzerland\": \"Europe\",\n",
    "    \"Turkey\": \"Europe\",\n",
    "    \"United Kingdom\": \"Europe\",\n",
    "\n",
    "    # North America\n",
    "    \"Bermuda\": \"North America\",\n",
    "    \"Canada\": \"North America\",\n",
    "    \"Cayman Islands\": \"North America\",\n",
    "    \"United States\": \"North America\",\n",
    "\n",
    "    # South America\n",
    "    \"Argentina\": \"South America\",\n",
    "    \"Brazil\": \"South America\",\n",
    "    \"Chile\": \"South America\",\n",
    "    \"Colombia\": \"South America\",\n",
    "    \"Mexico\": \"South America\",\n",
    "    \"Panama\": \"South America\",\n",
    "    \"Peru\": \"South America\",\n",
    "\n",
    "    # Asia-Pacific\n",
    "    \"Australia\": \"Asia-Pacific\",\n",
    "    \"China\": \"Asia-Pacific\",\n",
    "    \"Hong Kong\": \"Asia-Pacific\",\n",
    "    \"India\": \"Asia-Pacific\",\n",
    "    \"Indonesia\": \"Asia-Pacific\",  \n",
    "    \"Japan\": \"Asia-Pacific\",\n",
    "    \"Kazakhstan\": \"Asia-Pacific\",\n",
    "    \"Malaysia\": \"Asia-Pacific\",\n",
    "    \"Philippines\": \"Asia-Pacific\",\n",
    "    \"Singapore\": \"Asia-Pacific\",\n",
    "    \"South Korea\": \"Asia-Pacific\",\n",
    "    \"Taiwan\": \"Asia-Pacific\",\n",
    "    \"Thailand\": \"Asia-Pacific\",\n",
    "    \"Vietnam\": \"Asia-Pacific\",\n",
    "\n",
    "    \"South Africa\": \"Africa\",\n",
    "}"
   ]
  },
  {
   "cell_type": "code",
   "execution_count": 61,
   "id": "587b7f7f",
   "metadata": {},
   "outputs": [],
   "source": [
    "df['REGION'] = df['HEADQUARTERS'].map(country_region_map)"
   ]
  },
  {
   "cell_type": "code",
   "execution_count": null,
   "id": "31f57f9d",
   "metadata": {},
   "outputs": [
    {
     "data": {
      "text/html": [
       "<div>\n",
       "<style scoped>\n",
       "    .dataframe tbody tr th:only-of-type {\n",
       "        vertical-align: middle;\n",
       "    }\n",
       "\n",
       "    .dataframe tbody tr th {\n",
       "        vertical-align: top;\n",
       "    }\n",
       "\n",
       "    .dataframe thead th {\n",
       "        text-align: right;\n",
       "    }\n",
       "</style>\n",
       "<table border=\"1\" class=\"dataframe\">\n",
       "  <thead>\n",
       "    <tr style=\"text-align: right;\">\n",
       "      <th></th>\n",
       "      <th>ROA</th>\n",
       "      <th>PROFIT MARGIN</th>\n",
       "    </tr>\n",
       "    <tr>\n",
       "      <th>REGION</th>\n",
       "      <th></th>\n",
       "      <th></th>\n",
       "    </tr>\n",
       "  </thead>\n",
       "  <tbody>\n",
       "    <tr>\n",
       "      <th>South America</th>\n",
       "      <td>0.062555</td>\n",
       "      <td>0.248654</td>\n",
       "    </tr>\n",
       "    <tr>\n",
       "      <th>North America</th>\n",
       "      <td>0.061110</td>\n",
       "      <td>0.120785</td>\n",
       "    </tr>\n",
       "    <tr>\n",
       "      <th>MENA</th>\n",
       "      <td>0.047905</td>\n",
       "      <td>0.239552</td>\n",
       "    </tr>\n",
       "    <tr>\n",
       "      <th>Europe</th>\n",
       "      <td>0.047891</td>\n",
       "      <td>0.173004</td>\n",
       "    </tr>\n",
       "    <tr>\n",
       "      <th>Asia-Pacific</th>\n",
       "      <td>0.042924</td>\n",
       "      <td>0.138779</td>\n",
       "    </tr>\n",
       "    <tr>\n",
       "      <th>Africa</th>\n",
       "      <td>0.021381</td>\n",
       "      <td>0.116451</td>\n",
       "    </tr>\n",
       "  </tbody>\n",
       "</table>\n",
       "</div>"
      ],
      "text/plain": [
       "                    ROA  PROFIT MARGIN\n",
       "REGION                                \n",
       "South America  0.062555       0.248654\n",
       "North America  0.061110       0.120785\n",
       "MENA           0.047905       0.239552\n",
       "Europe         0.047891       0.173004\n",
       "Asia-Pacific   0.042924       0.138779\n",
       "Africa         0.021381       0.116451"
      ]
     },
     "execution_count": 64,
     "metadata": {},
     "output_type": "execute_result"
    }
   ],
   "source": [
    "grouped_region = df.groupby('REGION').agg({\"ROA\":'mean', \"PROFIT MARGIN\": 'mean'}).sort_values(by=[\"ROA\", \"PROFIT MARGIN\"], ascending=[False, False])\n",
    "grouped_region\n",
    "\n",
    "# Insights = ..."
   ]
  },
  {
   "cell_type": "markdown",
   "id": "bbf306ee",
   "metadata": {},
   "source": [
    "#### 3. Financial Performance Analysis"
   ]
  },
  {
   "cell_type": "markdown",
   "id": "b3b14f02",
   "metadata": {},
   "source": [
    "##### Question 1: Is there a strong correlation between assets and market value? (Do investors reward large asset bases?)"
   ]
  },
  {
   "cell_type": "code",
   "execution_count": 69,
   "id": "81c71120",
   "metadata": {},
   "outputs": [
    {
     "data": {
      "image/png": "[encoded data removed]",
      "text/plain": [
       "<Figure size 640x480 with 1 Axes>"
      ]
     },
     "metadata": {},
     "output_type": "display_data"
    }
   ],
   "source": [
    "# Scatter plot between assets and market value column\n",
    "import matplotlib.pyplot as plt\n",
    "plt.scatter(np.log10(df['ASSETS']), np.log10(df['MARKET VALUE']), alpha=0.5)\n",
    "plt.xlabel('ASSETS')\n",
    "plt.ylabel('MARKET VALUE')\n",
    "plt.show()"
   ]
  },
  {
   "cell_type": "code",
   "execution_count": 70,
   "id": "930d892c",
   "metadata": {},
   "outputs": [
    {
     "data": {
      "text/plain": [
       "0.15817813534744882"
      ]
     },
     "execution_count": 70,
     "metadata": {},
     "output_type": "execute_result"
    }
   ],
   "source": [
    "pearsons_corr = df[\"ASSETS\"].corr(df[\"MARKET VALUE\"], method=\"pearson\")\n",
    "pearsons_corr"
   ]
  },
  {
   "cell_type": "code",
   "execution_count": 71,
   "id": "b2668650",
   "metadata": {},
   "outputs": [
    {
     "data": {
      "text/plain": [
       "0.21378342306415185"
      ]
     },
     "execution_count": 71,
     "metadata": {},
     "output_type": "execute_result"
    }
   ],
   "source": [
    "spearman_corr = df[\"ASSETS\"].corr(df[\"MARKET VALUE\"], method=\"spearman\")\n",
    "spearman_corr"
   ]
  },
  {
   "cell_type": "code",
   "execution_count": null,
   "id": "705a9a88",
   "metadata": {},
   "outputs": [],
   "source": [
    "# This tells us that: There is a low or moderate correlation between asset and market value \n",
    "# So, asset size doesn’t necessarily translate into market value"
   ]
  },
  {
   "cell_type": "markdown",
   "id": "95c69cd3",
   "metadata": {},
   "source": [
    "##### Question 2: Which companies/industries generate the highest return on equity or assets?"
   ]
  },
  {
   "cell_type": "markdown",
   "id": "689de0ca",
   "metadata": {},
   "source": [
    "##### Question 3: Are there firms with high market value but relatively low sales or profit → overvalued growth companies?\n"
   ]
  },
  {
   "cell_type": "markdown",
   "id": "0e9f21bd",
   "metadata": {},
   "source": [
    "#### 4. Rank & Valuation Dynamics"
   ]
  },
  {
   "cell_type": "markdown",
   "id": "12b90b21",
   "metadata": {},
   "source": [
    "##### Question 1: What financial metrics best explain a company’s rank (e.g., is rank driven more by sales, profit, or market value)?\n"
   ]
  },
  {
   "cell_type": "markdown",
   "id": "b46c2333",
   "metadata": {},
   "source": [
    "##### Question 2: Are top-ranked companies concentrated in a few industries or countries?\n"
   ]
  },
  {
   "cell_type": "markdown",
   "id": "7c700e67",
   "metadata": {},
   "source": [
    "##### Question 3: Do the top 10% ranked companies show fundamentally different metrics compared to the rest?"
   ]
  },
  {
   "cell_type": "markdown",
   "id": "f2f36dfd",
   "metadata": {},
   "source": [
    "##### Question 4: Which companies look undervalued (high profit/assets but relatively low market value)?"
   ]
  }
 ],
 "metadata": {
  "kernelspec": {
   "display_name": "base",
   "language": "python",
   "name": "python3"
  },
  "language_info": {
   "codemirror_mode": {
    "name": "ipython",
    "version": 3
   },
   "file_extension": ".py",
   "mimetype": "text/x-python",
   "name": "python",
   "nbconvert_exporter": "python",
   "pygments_lexer": "ipython3",
   "version": "3.11.7"
  }
 },
 "nbformat": 4,
 "nbformat_minor": 5
}
