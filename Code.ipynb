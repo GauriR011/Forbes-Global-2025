{
 "cells": [
  {
   "cell_type": "markdown",
   "id": "9e8fd72b",
   "metadata": {},
   "source": [
    "# Forbes' 2025 Global 2000"
   ]
  },
  {
   "cell_type": "markdown",
   "id": "6da5a865",
   "metadata": {},
   "source": [
    "#### 1. Web Scraping\n",
    "\n",
    "Site: https://www.forbes.com/lists/global2000/      \n",
    "We will be scraping the table records listing the top 2000 public companies in the world."
   ]
  },
  {
   "cell_type": "code",
   "execution_count": 1,
   "id": "66c46126",
   "metadata": {},
   "outputs": [],
   "source": [
    "import requests\n",
    "from bs4 import BeautifulSoup\n",
    "import pandas as pd"
   ]
  },
  {
   "cell_type": "code",
   "execution_count": null,
   "id": "2ee47b8b",
   "metadata": {},
   "outputs": [],
   "source": [
    "base_url = \"https://www.forbes.com/lists/global2000/\"\n",
    "records = []\n",
    "\n",
    "# Collect HTML data from this page\n",
    "response = requests.get(base_url)\n",
    "\n",
    "# Parse content\n",
    "content = response.content\n",
    "parsed_content = BeautifulSoup(content, 'html.parser')\n",
    "\n",
    "# Each row is wrapped in <a class=\"table-row ...\">\n",
    "for row in parsed_content.find_all(\"a\", class_=\"table-row\"):\n",
    "    cols = row.find_all(\"div\", class_=\"row-cell-value\")\n",
    "    if len(cols) >= 8:  # ensure we have all columns\n",
    "        records.append([col.get_text(strip=True) for col in cols])\n"
   ]
  },
  {
   "cell_type": "code",
   "execution_count": null,
   "id": "74501e3d",
   "metadata": {},
   "outputs": [],
   "source": [
    "# Converting the collected records to a dataframe\n",
    "column_headers = [\"RANK\", \"NAME\", \"HEADQUARTERS\", \"INDUSTRY\", \"SALES\", \"PROFIT\", \"ASSETS\", \"MARKET VALUE\"]\n",
    "df = pd.DataFrame(records, columns=column_headers)"
   ]
  },
  {
   "cell_type": "code",
   "execution_count": 3,
   "id": "4ce041fe",
   "metadata": {},
   "outputs": [
    {
     "data": {
      "text/html": [
       "<div>\n",
       "<style scoped>\n",
       "    .dataframe tbody tr th:only-of-type {\n",
       "        vertical-align: middle;\n",
       "    }\n",
       "\n",
       "    .dataframe tbody tr th {\n",
       "        vertical-align: top;\n",
       "    }\n",
       "\n",
       "    .dataframe thead th {\n",
       "        text-align: right;\n",
       "    }\n",
       "</style>\n",
       "<table border=\"1\" class=\"dataframe\">\n",
       "  <thead>\n",
       "    <tr style=\"text-align: right;\">\n",
       "      <th></th>\n",
       "      <th>RANK</th>\n",
       "      <th>NAME</th>\n",
       "      <th>HEADQUARTERS</th>\n",
       "      <th>INDUSTRY</th>\n",
       "      <th>SALES</th>\n",
       "      <th>PROFIT</th>\n",
       "      <th>ASSETS</th>\n",
       "      <th>MARKET VALUE</th>\n",
       "    </tr>\n",
       "  </thead>\n",
       "  <tbody>\n",
       "    <tr>\n",
       "      <th>0</th>\n",
       "      <td>1</td>\n",
       "      <td>JPMorganChase</td>\n",
       "      <td>United States</td>\n",
       "      <td>Banking</td>\n",
       "      <td>$285.11 B</td>\n",
       "      <td>$59.36 B</td>\n",
       "      <td>$4,357.86 B</td>\n",
       "      <td>$677.8 B</td>\n",
       "    </tr>\n",
       "    <tr>\n",
       "      <th>1</th>\n",
       "      <td>2</td>\n",
       "      <td>Berkshire Hathaway</td>\n",
       "      <td>United States</td>\n",
       "      <td>Insurance</td>\n",
       "      <td>$371.43 B</td>\n",
       "      <td>$89 B</td>\n",
       "      <td>$1,153.88 B</td>\n",
       "      <td>$1,145.46 B</td>\n",
       "    </tr>\n",
       "    <tr>\n",
       "      <th>2</th>\n",
       "      <td>3</td>\n",
       "      <td>ICBC</td>\n",
       "      <td>China</td>\n",
       "      <td>Banking</td>\n",
       "      <td>$221.96 B</td>\n",
       "      <td>$50.84 B</td>\n",
       "      <td>$6,688.6 B</td>\n",
       "      <td>$251.33 B</td>\n",
       "    </tr>\n",
       "    <tr>\n",
       "      <th>3</th>\n",
       "      <td>4</td>\n",
       "      <td>Saudi Arabian Oil Company (Saudi Aramco)</td>\n",
       "      <td>Saudi Arabia</td>\n",
       "      <td>Oil &amp; Gas Operations</td>\n",
       "      <td>$480.15 B</td>\n",
       "      <td>$104.97 B</td>\n",
       "      <td>$645.03 B</td>\n",
       "      <td>$1,663.38 B</td>\n",
       "    </tr>\n",
       "    <tr>\n",
       "      <th>4</th>\n",
       "      <td>5</td>\n",
       "      <td>Amazon</td>\n",
       "      <td>United States</td>\n",
       "      <td>Retail and Wholesale</td>\n",
       "      <td>$637.96 B</td>\n",
       "      <td>$59.25 B</td>\n",
       "      <td>$624.89 B</td>\n",
       "      <td>$2,005.64 B</td>\n",
       "    </tr>\n",
       "  </tbody>\n",
       "</table>\n",
       "</div>"
      ],
      "text/plain": [
       "  RANK                                      NAME   HEADQUARTERS  \\\n",
       "0    1                             JPMorganChase  United States   \n",
       "1    2                        Berkshire Hathaway  United States   \n",
       "2    3                                      ICBC          China   \n",
       "3    4  Saudi Arabian Oil Company (Saudi Aramco)   Saudi Arabia   \n",
       "4    5                                    Amazon  United States   \n",
       "\n",
       "               INDUSTRY      SALES     PROFIT       ASSETS MARKET VALUE  \n",
       "0               Banking  $285.11 B   $59.36 B  $4,357.86 B     $677.8 B  \n",
       "1             Insurance  $371.43 B      $89 B  $1,153.88 B  $1,145.46 B  \n",
       "2               Banking  $221.96 B   $50.84 B   $6,688.6 B    $251.33 B  \n",
       "3  Oil & Gas Operations  $480.15 B  $104.97 B    $645.03 B  $1,663.38 B  \n",
       "4  Retail and Wholesale  $637.96 B   $59.25 B    $624.89 B  $2,005.64 B  "
      ]
     },
     "execution_count": 3,
     "metadata": {},
     "output_type": "execute_result"
    }
   ],
   "source": [
    "df.head()"
   ]
  },
  {
   "cell_type": "code",
   "execution_count": 4,
   "id": "768555b0",
   "metadata": {},
   "outputs": [
    {
     "data": {
      "text/plain": [
       "RANK            0\n",
       "NAME            0\n",
       "HEADQUARTERS    0\n",
       "INDUSTRY        0\n",
       "SALES           0\n",
       "PROFIT          0\n",
       "ASSETS          0\n",
       "MARKET VALUE    0\n",
       "dtype: int64"
      ]
     },
     "execution_count": 4,
     "metadata": {},
     "output_type": "execute_result"
    }
   ],
   "source": [
    "df.isna().sum()"
   ]
  },
  {
   "cell_type": "code",
   "execution_count": 13,
   "id": "bd9f73e2",
   "metadata": {},
   "outputs": [],
   "source": [
    "# Let's first save this scraped dataset before proceeding to the Data Cleaning stage.\n",
    "df.to_csv(\"Original_Scraped_data.csv\", index=False)"
   ]
  },
  {
   "cell_type": "markdown",
   "id": "dbefcb0c",
   "metadata": {},
   "source": [
    "### 2. Data Cleaning"
   ]
  },
  {
   "cell_type": "code",
   "execution_count": 2,
   "id": "599a5603",
   "metadata": {},
   "outputs": [],
   "source": [
    "# The first thing that catches my eye are the numeric values. \n",
    "# Let's just retain the numbers since we know all of them are in Billions (B) and the currency is Dollars ($)\n",
    "\n",
    "df = pd.read_csv(\"Original_Scraped_data.csv\")"
   ]
  },
  {
   "cell_type": "code",
   "execution_count": null,
   "id": "d34d9d53",
   "metadata": {},
   "outputs": [],
   "source": [
    "# # We'll will be using Regex for pattern matching and use .replace along with it\n",
    "# def numeric_col_cleaning(col_name):\n",
    "#     # Remove $ and B\n",
    "#     df.loc[:, col_name] = df[col_name].str.replace(r'[$B]', '', regex=True) \n",
    "\n",
    "#     # convert to numeric\n",
    "#     df.loc[:, col_name] = (\n",
    "#         pd.to_numeric(df[col_name], errors=\"coerce\").astype(float)\n",
    "# )\n",
    "    \n",
    "# numeric_col_cleaning('SALES')\n",
    "# numeric_col_cleaning('PROFIT')\n",
    "# numeric_col_cleaning('ASSETS')\n",
    "# numeric_col_cleaning('MARKET VALUE')\n",
    "\n"
   ]
  }
 ],
 "metadata": {
  "kernelspec": {
   "display_name": "base",
   "language": "python",
   "name": "python3"
  },
  "language_info": {
   "codemirror_mode": {
    "name": "ipython",
    "version": 3
   },
   "file_extension": ".py",
   "mimetype": "text/x-python",
   "name": "python",
   "nbconvert_exporter": "python",
   "pygments_lexer": "ipython3",
   "version": "3.11.7"
  }
 },
 "nbformat": 4,
 "nbformat_minor": 5
}
